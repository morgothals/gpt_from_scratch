{
 "cells": [
  {
   "cell_type": "code",
   "execution_count": 1,
   "id": "a3e5ced2",
   "metadata": {},
   "outputs": [],
   "source": [
    "import sys\n",
    "import os\n",
    "sys.path.append(os.path.abspath(\"..\"))"
   ]
  },
  {
   "cell_type": "code",
   "execution_count": null,
   "id": "90fb7b6a",
   "metadata": {},
   "outputs": [
    {
     "name": "stdout",
     "output_type": "stream",
     "text": [
      "Bemenet: 3.0000\n",
      "Kezdő W érték: 2.0000\n",
      "Kívánt Bemenet: 12.0000\n",
      "Kimenet (y): 6.0000\n",
      "Loss: 36.0000\n",
      "W gradiens: -36.0000\n",
      "\n",
      "🔁 Frissített W: 5.6000\n",
      "Új kimenet (y): 16.8000\n",
      "Új loss: 23.0400\n",
      "W gradiens: 28.8000\n",
      "\n",
      "🔁 Frissített W: 2.7200\n",
      "Új kimenet (y): 8.1600\n",
      "Új loss: 14.7456\n"
     ]
    }
   ],
   "source": [
    "import torch\n",
    "\n",
    "# 1. Tanítható súly létrehozása\n",
    "W = torch.tensor(2.0, requires_grad=True)\n",
    "x = torch.tensor(3.0)  # bemenet\n",
    "target = torch.tensor(12.0)  # kívánt kimenet\n",
    "learning_rate = 0.1\n",
    "print(f\"Bemenet: {x.item():.4f}\")\n",
    "print(f\"Kezdő W érték: {W.item():.4f}\")\n",
    "print(f\"Kívánt Bemenet: {target.item():.4f}\")\n",
    "\n",
    "# 2. Előrefelé számolás: y = W * x\n",
    "y = W * x\n",
    "print(f\"Kimenet (y): {y.item():.4f}\")\n",
    "\n",
    "# 3. Loss számítása: négyzetes hiba\n",
    "loss = (y - target) ** 2\n",
    "print(f\"Loss: {loss.item():.4f}\")\n",
    "\n",
    "# 4. Visszaterjesztés (gradiens számítás)\n",
    "loss.backward()\n",
    "\n",
    "print(f\"W gradiens: {W.grad.item():.4f}\")\n",
    "\n",
    "# 5. Súlyfrissítés (gradient descent)\n",
    "with torch.no_grad():  # ne építsen számítási gráfot\n",
    "    W.data = W.data - learning_rate * W.grad\n",
    "\n",
    "# 6. Gradiens kinullázása\n",
    "W.grad.zero_()\n",
    "\n",
    "# 7. Új előrefelé számolás az új W-vel\n",
    "y_new = W * x\n",
    "loss_new = (y_new - target) ** 2\n",
    "\n",
    "print(f\"\\n🔁 Frissített W: {W.item():.4f}\")\n",
    "print(f\"Új kimenet (y): {y_new.item():.4f}\")\n",
    "print(f\"Új loss: {loss_new.item():.4f}\")\n",
    "\n",
    "\n",
    "\n",
    "loss_new.backward()\n",
    "print(f\"W gradiens: {W.grad.item():.4f}\")\n",
    "# 5. Súlyfrissítés (gradient descent)\n",
    "with torch.no_grad():  # ne építsen számítási gráfot\n",
    "    W.data = W.data - learning_rate * W.grad\n",
    "\n",
    "# 6. Gradiens kinullázása\n",
    "W.grad.zero_()\n",
    "\n",
    "# 7. Új előrefelé számolás az új W-vel\n",
    "y_new = W * x\n",
    "loss_new = (y_new - target) ** 2\n",
    "\n",
    "print(f\"\\n🔁 Frissített W: {W.item():.4f}\")\n",
    "print(f\"Új kimenet (y): {y_new.item():.4f}\")\n",
    "print(f\"Új loss: {loss_new.item():.4f}\")\n"
   ]
  },
  {
   "cell_type": "code",
   "execution_count": 8,
   "id": "e0bd7bd4",
   "metadata": {},
   "outputs": [
    {
     "name": "stdout",
     "output_type": "stream",
     "text": [
      "<PowBackward0 object at 0x0000017BDA3D5FD0>\n",
      "<MulBackward0 object at 0x0000017BDA3D5130>\n",
      "None\n"
     ]
    }
   ],
   "source": [
    "W = torch.tensor(2.0, requires_grad=True)\n",
    "x = torch.tensor(3.0)\n",
    "\n",
    "y = W * x\n",
    "loss = (y - 12.0)**2\n",
    "\n",
    "print(loss.grad_fn)      # PowBackward0\n",
    "print(y.grad_fn)         # MulBackward0\n",
    "print(W.grad_fn)         # None → mert ez nem számításból jött, hanem kézzel lett megadva\n"
   ]
  },
  {
   "cell_type": "code",
   "execution_count": 9,
   "id": "d533598a",
   "metadata": {},
   "outputs": [
    {
     "name": "stdout",
     "output_type": "stream",
     "text": [
      "Step  1 | W: 5.6000 | y: 6.0000 | Loss: 36.0000\n",
      "Step  2 | W: 2.7200 | y: 16.8000 | Loss: 23.0400\n",
      "Step  3 | W: 5.0240 | y: 8.1600 | Loss: 14.7456\n",
      "Step  4 | W: 3.1808 | y: 15.0720 | Loss: 9.4372\n",
      "Step  5 | W: 4.6554 | y: 9.5424 | Loss: 6.0398\n",
      "Step  6 | W: 3.4757 | y: 13.9661 | Loss: 3.8655\n",
      "Step  7 | W: 4.4194 | y: 10.4271 | Loss: 2.4739\n",
      "Step  8 | W: 3.6645 | y: 13.2583 | Loss: 1.5833\n",
      "Step  9 | W: 4.2684 | y: 10.9934 | Loss: 1.0133\n",
      "Step 10 | W: 3.7853 | y: 12.8053 | Loss: 0.6485\n",
      "Step 11 | W: 4.1718 | y: 11.3558 | Loss: 0.4151\n",
      "Step 12 | W: 3.8626 | y: 12.5154 | Loss: 0.2656\n",
      "Step 13 | W: 4.1100 | y: 11.5877 | Loss: 0.1700\n",
      "Step 14 | W: 3.9120 | y: 12.3299 | Loss: 0.1088\n",
      "Step 15 | W: 4.0704 | y: 11.7361 | Loss: 0.0696\n",
      "Step 16 | W: 3.9437 | y: 12.2111 | Loss: 0.0446\n",
      "Step 17 | W: 4.0450 | y: 11.8311 | Loss: 0.0285\n",
      "Step 18 | W: 3.9640 | y: 12.1351 | Loss: 0.0183\n",
      "Step 19 | W: 4.0288 | y: 11.8919 | Loss: 0.0117\n",
      "Step 20 | W: 3.9769 | y: 12.0865 | Loss: 0.0075\n",
      "Step 21 | W: 4.0184 | y: 11.9308 | Loss: 0.0048\n",
      "Step 22 | W: 3.9852 | y: 12.0553 | Loss: 0.0031\n",
      "Step 23 | W: 4.0118 | y: 11.9557 | Loss: 0.0020\n",
      "Step 24 | W: 3.9906 | y: 12.0354 | Loss: 0.0013\n",
      "Step 25 | W: 4.0076 | y: 11.9717 | Loss: 0.0008\n",
      "Step 26 | W: 3.9940 | y: 12.0227 | Loss: 0.0005\n",
      "Step 27 | W: 4.0048 | y: 11.9819 | Loss: 0.0003\n",
      "Step 28 | W: 3.9961 | y: 12.0145 | Loss: 0.0002\n",
      "Step 29 | W: 4.0031 | y: 11.9884 | Loss: 0.0001\n",
      "Step 30 | W: 3.9975 | y: 12.0093 | Loss: 0.0001\n"
     ]
    },
    {
     "data": {
      "image/png": "[encoded data removed]",
      "text/plain": [
       "<Figure size 640x480 with 1 Axes>"
      ]
     },
     "metadata": {},
     "output_type": "display_data"
    }
   ],
   "source": [
    "import torch\n",
    "import matplotlib.pyplot as plt\n",
    "\n",
    "# Tanítható paraméter (súly)\n",
    "W = torch.tensor(2.0, requires_grad=True)\n",
    "\n",
    "# Fix bemenet és célérték\n",
    "x = torch.tensor(3.0)\n",
    "target = torch.tensor(12.0)\n",
    "\n",
    "# Tanulási ráta\n",
    "lr = 0.1\n",
    "\n",
    "# Loss nyomon követése\n",
    "loss_history = []\n",
    "\n",
    "# Tréning ciklus (pl. 30 lépés)\n",
    "for step in range(30):\n",
    "    # 1. Előrehaladás (modell számol)\n",
    "    y = W * x\n",
    "    loss = (y - target) ** 2\n",
    "\n",
    "    # 2. Loss eltárolása\n",
    "    loss_history.append(loss.item())\n",
    "\n",
    "    # 3. Visszaterjesztés\n",
    "    loss.backward()\n",
    "\n",
    "    # 4. Súly frissítése (gradient descent)\n",
    "    with torch.no_grad():\n",
    "        W.data -= lr * W.grad\n",
    "\n",
    "    # 5. Gradiens kinullázása\n",
    "    W.grad.zero_()\n",
    "\n",
    "    # 6. Kiírás\n",
    "    print(f\"Step {step+1:2d} | W: {W.item():.4f} | y: {y.item():.4f} | Loss: {loss.item():.4f}\")\n",
    "\n",
    "# Loss alakulásának ábrázolása\n",
    "plt.plot(loss_history)\n",
    "plt.xlabel(\"Lépés\")\n",
    "plt.ylabel(\"Loss\")\n",
    "plt.title(\"Loss csökkenése tanulás során\")\n",
    "plt.grid(True)\n",
    "plt.show()\n"
   ]
  }
 ],
 "metadata": {
  "kernelspec": {
   "display_name": "llm_env",
   "language": "python",
   "name": "python3"
  },
  "language_info": {
   "codemirror_mode": {
    "name": "ipython",
    "version": 3
   },
   "file_extension": ".py",
   "mimetype": "text/x-python",
   "name": "python",
   "nbconvert_exporter": "python",
   "pygments_lexer": "ipython3",
   "version": "3.9.13"
  }
 },
 "nbformat": 4,
 "nbformat_minor": 5
}
