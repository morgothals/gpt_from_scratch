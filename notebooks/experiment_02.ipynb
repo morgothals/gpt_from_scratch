{
 "cells": [
  {
   "cell_type": "code",
   "execution_count": 1,
   "id": "a3e5ced2",
   "metadata": {},
   "outputs": [],
   "source": [
    "import sys\n",
    "import os\n",
    "sys.path.append(os.path.abspath(\"..\"))"
   ]
  },
  {
   "cell_type": "code",
   "execution_count": 2,
   "id": "90fb7b6a",
   "metadata": {},
   "outputs": [
    {
     "name": "stdout",
     "output_type": "stream",
     "text": [
      "Bemenet: Let them\n",
      "Tokenek: [45, 68, 83, 2, 83, 71, 68, 76]\n",
      "Következő karakter predikció (logit alapján): ”\n",
      "Top 5 valószínűség:\n",
      "” → 0.0262\n",
      "Z → 0.0223\n",
      "w → 0.0210\n",
      "O → 0.0194\n",
      "\\ → 0.0188\n"
     ]
    }
   ],
   "source": [
    "import torch\n",
    "from utils.tokenizer import CharTokenizer\n",
    "from model.gpt import GPT, GPTConfig\n",
    "\n",
    "# Szöveg beolvasása\n",
    "with open(\"../data/input.txt\", \"r\", encoding=\"utf-8\") as f:\n",
    "    text = f.read()\n",
    "\n",
    "# Tokenizer + encode\n",
    "tokenizer = CharTokenizer(text)\n",
    "sample = \"Let them\"\n",
    "tokens = tokenizer.encode(sample)\n",
    "x = torch.tensor(tokens).unsqueeze(0)  # shape: (1, T)\n",
    "\n",
    "# Modell inicializálás\n",
    "config = GPTConfig(vocab_size=tokenizer.vocab_size, block_size=128)\n",
    "model = GPT(config)\n",
    "\n",
    "# Forward pass\n",
    "with torch.no_grad():\n",
    "    logits = model(x)  # shape: (1, T, vocab_size)\n",
    "    last_logits = logits[0, -1]  # csak az utolsó pozíció logitjai\n",
    "\n",
    "# Softmax valószínűség\n",
    "probs = torch.softmax(last_logits, dim=-1)\n",
    "\n",
    "# Legvalószínűbb token\n",
    "predicted_token_id = torch.argmax(probs).item()\n",
    "predicted_char = tokenizer.itos[predicted_token_id]\n",
    "\n",
    "print(\"Bemenet:\", sample)\n",
    "print(\"Tokenek:\", tokens)\n",
    "print(\"Következő karakter predikció (logit alapján):\", predicted_char)\n",
    "print(\"Top 5 valószínűség:\")\n",
    "top5 = torch.topk(probs, 5)\n",
    "for idx, prob in zip(top5.indices, top5.values):\n",
    "    print(f\"{tokenizer.itos[idx.item()]} → {prob.item():.4f}\")\n"
   ]
  }
 ],
 "metadata": {
  "kernelspec": {
   "display_name": "llm_env",
   "language": "python",
   "name": "python3"
  },
  "language_info": {
   "codemirror_mode": {
    "name": "ipython",
    "version": 3
   },
   "file_extension": ".py",
   "mimetype": "text/x-python",
   "name": "python",
   "nbconvert_exporter": "python",
   "pygments_lexer": "ipython3",
   "version": "3.9.13"
  }
 },
 "nbformat": 4,
 "nbformat_minor": 5
}
