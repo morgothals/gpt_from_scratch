{
 "cells": [
  {
   "cell_type": "code",
   "execution_count": 2,
   "id": "f6720228",
   "metadata": {},
   "outputs": [],
   "source": [
    "import sys\n",
    "import os\n",
    "sys.path.append(os.path.abspath(\"..\"))\n"
   ]
  },
  {
   "cell_type": "code",
   "execution_count": 4,
   "id": "6cc3db37",
   "metadata": {},
   "outputs": [
    {
     "name": "stdout",
     "output_type": "stream",
     "text": [
      "Tokenek: [45, 68, 83, 2, 83, 71, 68, 76, 2, 75, 68, 64, 67, 16]\n",
      "Visszaalakítva: Let them lead.\n",
      "Szókincs méret: 137\n"
     ]
    }
   ],
   "source": [
    "from utils.tokenizer import CharTokenizer\n",
    "\n",
    "# Szöveg beolvasása\n",
    "with open(\"../data/input.txt\", \"r\", encoding=\"utf-8\") as f:\n",
    "    text = f.read()\n",
    "\n",
    "# Tokenizer létrehozása\n",
    "tokenizer = CharTokenizer(text)\n",
    "\n",
    "# Példa: encode / decode\n",
    "encoded = tokenizer.encode(\"Let them lead.\")\n",
    "print(\"Tokenek:\", encoded)\n",
    "\n",
    "decoded = tokenizer.decode(encoded)\n",
    "print(\"Visszaalakítva:\", decoded)\n",
    "\n",
    "print(\"Szókincs méret:\", tokenizer.vocab_size)\n"
   ]
  },
  {
   "cell_type": "code",
   "execution_count": 5,
   "id": "d960e43c",
   "metadata": {},
   "outputs": [
    {
     "name": "stdout",
     "output_type": "stream",
     "text": [
      "[34, 75, 82, 78, 2, 65, 88, 2, 46, 68, 75, 2, 51, 78, 65, 65, 72, 77, 82, 1]\n"
     ]
    }
   ],
   "source": [
    "with open(\"../data/out/train.bin\", \"rb\") as f:\n",
    "    train_data = f.read()\n",
    "    print(list(train_data[:20]))  # első 20 token"
   ]
  },
  {
   "cell_type": "markdown",
   "id": "0ebce405",
   "metadata": {},
   "source": [
    "Az elmentett char tokenizer class tartalma. Pl vocab, itos, stoi, vocab length"
   ]
  },
  {
   "cell_type": "code",
   "execution_count": 7,
   "id": "eab99697",
   "metadata": {},
   "outputs": [
    {
     "name": "stdout",
     "output_type": "stream",
     "text": [
      "Szókincs mérete: 137\n",
      "példa: \t\n",
      " \n"
     ]
    }
   ],
   "source": [
    "import pickle\n",
    "\n",
    "with open(\"../data/out/tokenizer.pkl\", \"rb\") as f:\n",
    "    tokenizer = pickle.load(f)\n",
    "\n",
    "print(\"Szókincs mérete:\", tokenizer.vocab_size)\n",
    "print(\"példa:\", tokenizer.decode([0, 1, 2]))\n"
   ]
  },
  {
   "cell_type": "markdown",
   "id": "c315d561",
   "metadata": {},
   "source": [
    "Teljes szótár kiíráatása"
   ]
  },
  {
   "cell_type": "code",
   "execution_count": 8,
   "id": "92e9fd00",
   "metadata": {},
   "outputs": [
    {
     "name": "stdout",
     "output_type": "stream",
     "text": [
      "{0: '\\t', 1: '\\n', 2: ' ', 3: '!', 4: '\"', 5: '#', 6: '$', 7: '%', 8: '&', 9: \"'\", 10: '(', 11: ')', 12: '*', 13: '+', 14: ',', 15: '-', 16: '.', 17: '/', 18: '0', 19: '1', 20: '2', 21: '3', 22: '4', 23: '5', 24: '6', 25: '7', 26: '8', 27: '9', 28: ':', 29: ';', 30: '<', 31: '=', 32: '?', 33: '@', 34: 'A', 35: 'B', 36: 'C', 37: 'D', 38: 'E', 39: 'F', 40: 'G', 41: 'H', 42: 'I', 43: 'J', 44: 'K', 45: 'L', 46: 'M', 47: 'N', 48: 'O', 49: 'P', 50: 'Q', 51: 'R', 52: 'S', 53: 'T', 54: 'U', 55: 'V', 56: 'W', 57: 'X', 58: 'Y', 59: 'Z', 60: '[', 61: '\\\\', 62: ']', 63: '_', 64: 'a', 65: 'b', 66: 'c', 67: 'd', 68: 'e', 69: 'f', 70: 'g', 71: 'h', 72: 'i', 73: 'j', 74: 'k', 75: 'l', 76: 'm', 77: 'n', 78: 'o', 79: 'p', 80: 'q', 81: 'r', 82: 's', 83: 't', 84: 'u', 85: 'v', 86: 'w', 87: 'x', 88: 'y', 89: 'z', 90: '|', 91: '©', 92: '\\xad', 93: '®', 94: '°', 95: 'Ä', 96: 'Ö', 97: '×', 98: 'á', 99: 'ä', 100: 'æ', 101: 'è', 102: 'é', 103: 'í', 104: 'ï', 105: 'ñ', 106: 'ó', 107: 'ö', 108: 'ø', 109: 'ü', 110: 'ý', 111: 'ş', 112: 'ə', 113: '˜', 114: 'α', 115: 'γ', 116: 'ε', 117: 'θ', 118: 'ι', 119: 'ν', 120: 'σ', 121: 'τ', 122: 'υ', 123: 'ω', 124: 'ό', 125: '\\u200a', 126: '‐', 127: '–', 128: '—', 129: '‘', 130: '’', 131: '“', 132: '”', 133: '•', 134: '…', 135: '−', 136: '∞'}\n"
     ]
    }
   ],
   "source": [
    "print(tokenizer.itos)"
   ]
  },
  {
   "cell_type": "markdown",
   "id": "d2820678",
   "metadata": {},
   "source": [
    "Példa encode decode"
   ]
  },
  {
   "cell_type": "code",
   "execution_count": 10,
   "id": "fad09f82",
   "metadata": {},
   "outputs": [
    {
     "name": "stdout",
     "output_type": "stream",
     "text": [
      "Tokenek: [45, 68, 83, 2, 83, 71, 68, 76, 2, 75, 68, 64, 81, 77]\n",
      "Visszaalakítva: Let them learn\n"
     ]
    }
   ],
   "source": [
    "example = \"Let them learn\"\n",
    "encoded = tokenizer.encode(example)\n",
    "print(\"Tokenek:\", encoded)\n",
    "\n",
    "decoded = tokenizer.decode(encoded)\n",
    "print(\"Visszaalakítva:\", decoded)"
   ]
  }
 ],
 "metadata": {
  "kernelspec": {
   "display_name": "llm_env",
   "language": "python",
   "name": "python3"
  },
  "language_info": {
   "codemirror_mode": {
    "name": "ipython",
    "version": 3
   },
   "file_extension": ".py",
   "mimetype": "text/x-python",
   "name": "python",
   "nbconvert_exporter": "python",
   "pygments_lexer": "ipython3",
   "version": "3.9.13"
  }
 },
 "nbformat": 4,
 "nbformat_minor": 5
}
